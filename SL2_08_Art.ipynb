{
  "nbformat": 4,
  "nbformat_minor": 0,
  "metadata": {
    "colab": {
      "provenance": []
    },
    "kernelspec": {
      "name": "python3",
      "display_name": "Python 3"
    },
    "language_info": {
      "name": "python"
    }
  },
  "cells": [
    {
      "cell_type": "markdown",
      "source": [
        "8. Write a python program to illustrate ART neural network."
      ],
      "metadata": {
        "id": "2DqwbkgERPc9"
      }
    },
    {
      "cell_type": "code",
      "execution_count": 1,
      "metadata": {
        "colab": {
          "base_uri": "https://localhost:8080/"
        },
        "id": "agUv7L2CQ-4D",
        "outputId": "5ded1ffd-b913-4390-ec36-5ed743067d6e"
      },
      "outputs": [
        {
          "output_type": "stream",
          "name": "stdout",
          "text": [
            "Category 1:\n",
            "Patterns:\n",
            "[1 0 1 0]\n",
            "[1 1 1 0]\n",
            "Weights:\n",
            "[0.56790339 0.16773826 0.017148   0.24721035]\n",
            "\n",
            "Category 2:\n",
            "Patterns:\n",
            "[0 1 0 1]\n",
            "Weights:\n",
            "[0.28318726 0.45130636 0.06300202 0.20250436]\n",
            "\n"
          ]
        }
      ],
      "source": [
        "import numpy as np\n",
        "\n",
        "def initialize_weights(input_dim, category):\n",
        "    weights = np.random.uniform(size=(input_dim,))\n",
        "    weights /= np.sum(weights)\n",
        "    return weights\n",
        "\n",
        "def calculate_similarity(input_pattern, weights):\n",
        "    return np.minimum(input_pattern, weights).sum()\n",
        "\n",
        "def update_weights(input_pattern, weights, vigilance):\n",
        "    while True:\n",
        "        activation = calculate_similarity(input_pattern, weights)\n",
        "        if activation >= vigilance:\n",
        "            return weights\n",
        "        else:\n",
        "            weights[np.argmax(input_pattern)] += 1\n",
        "            weights /= np.sum(weights)\n",
        "\n",
        "def ART_neural_network(input_patterns, vigilance):\n",
        "    num_patterns, input_dim = input_patterns.shape\n",
        "    categories = []\n",
        "\n",
        "    for pattern in input_patterns:\n",
        "        matched_category = None\n",
        "        for category in categories:\n",
        "            if calculate_similarity(pattern, category[\"weights\"]) >= vigilance:\n",
        "                matched_category = category\n",
        "                break\n",
        "\n",
        "        if matched_category is None:\n",
        "            weights = initialize_weights(input_dim, len(categories))\n",
        "            matched_category = {\"weights\": weights, \"patterns\": []}\n",
        "            categories.append(matched_category)\n",
        "\n",
        "        matched_category[\"patterns\"].append(pattern)\n",
        "        matched_category[\"weights\"] = update_weights(pattern, matched_category[\"weights\"], vigilance)\n",
        "\n",
        "    return categories\n",
        "\n",
        "# Example usage\n",
        "input_patterns = np.array([[1, 0, 1, 0], [0, 1, 0, 1], [1, 1, 1, 0]])\n",
        "vigilance = 0.5\n",
        "\n",
        "categories = ART_neural_network(input_patterns, vigilance)\n",
        "\n",
        "# Print the learned categories\n",
        "for i, category in enumerate(categories):\n",
        "    print(f\"Category {i+1}:\")\n",
        "    print(\"Patterns:\")\n",
        "    [print(pattern) for pattern in category[\"patterns\"]]\n",
        "    print(\"Weights:\")\n",
        "    print(category[\"weights\"])\n",
        "    print()"
      ]
    }
  ]
}