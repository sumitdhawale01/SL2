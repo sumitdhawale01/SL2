{
  "nbformat": 4,
  "nbformat_minor": 0,
  "metadata": {
    "colab": {
      "provenance": []
    },
    "kernelspec": {
      "name": "python3",
      "display_name": "Python 3"
    },
    "language_info": {
      "name": "python"
    }
  },
  "cells": [
    {
      "cell_type": "code",
      "execution_count": 2,
      "metadata": {
        "id": "q9-LRzWm3o8X"
      },
      "outputs": [],
      "source": [
        "import numpy as np"
      ]
    },
    {
      "cell_type": "code",
      "source": [
        "def mp_neuron(input, weight, threshold):\n",
        "  weighted_sum = np.dot(input, weight)\n",
        "  output = 1 if weighted_sum >= threshold else 0\n",
        "  return output"
      ],
      "metadata": {
        "id": "PcltsrsL31Re"
      },
      "execution_count": 3,
      "outputs": []
    },
    {
      "cell_type": "code",
      "source": [
        "def and_not(x1, x2):\n",
        "  weight = [1, -1]\n",
        "  threshold = 1\n",
        "  input = np.array([x1,x2])\n",
        "  output = mp_neuron(input, weight, threshold)\n",
        "  return output"
      ],
      "metadata": {
        "id": "H2cvGk8l9S_H"
      },
      "execution_count": 4,
      "outputs": []
    },
    {
      "cell_type": "code",
      "source": [
        "print(and_not(0,0))\n",
        "print(and_not(0,1))\n",
        "print(and_not(1,0))\n",
        "print(and_not(1,1))"
      ],
      "metadata": {
        "colab": {
          "base_uri": "https://localhost:8080/"
        },
        "id": "T9ME4LSW9spu",
        "outputId": "860aeb75-d26f-4805-edc8-7573b2e4e8ef"
      },
      "execution_count": 5,
      "outputs": [
        {
          "output_type": "stream",
          "name": "stdout",
          "text": [
            "0\n",
            "0\n",
            "1\n",
            "0\n"
          ]
        }
      ]
    },
    {
      "cell_type": "code",
      "source": [],
      "metadata": {
        "id": "Vqbdr3hE93Ig"
      },
      "execution_count": null,
      "outputs": []
    }
  ]
}