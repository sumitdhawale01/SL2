{
  "cells": [
    {
      "cell_type": "markdown",
      "metadata": {
        "id": "lkuciyqVNXiE"
      },
      "source": [
        "7. B(1)Write a python program to show Back Propagation Network for XOR function with Binary Input\n",
        "and Output"
      ]
    },
    {
      "cell_type": "code",
      "execution_count": 1,
      "metadata": {
        "colab": {
          "base_uri": "https://localhost:8080/"
        },
        "id": "03BDKTLfNU3V",
        "outputId": "01fced93-8823-417f-9a1a-6c354bdcb6d9"
      },
      "outputs": [
        {
          "name": "stdout",
          "output_type": "stream",
          "text": [
            "Input:\n",
            "[[0 0]\n",
            " [0 1]\n",
            " [1 0]\n",
            " [1 1]]\n",
            "Output:\n",
            "[[0.50000362]\n",
            " [0.50000001]\n",
            " [0.5       ]\n",
            " [0.49999639]]\n",
            "Expected Output:\n",
            "[[0]\n",
            " [1]\n",
            " [1]\n",
            " [0]]\n"
          ]
        }
      ],
      "source": [
        "import numpy as np\n",
        "\n",
        "# Define the parameters of the network\n",
        "input_neuron = 2    # Number of input neurons\n",
        "hidden_neuron = 4   # Number of hidden neurons\n",
        "output_neuron = 1   # Number of output neurons\n",
        "learning_rate = 0.1\n",
        "epochs = 10000\n",
        "\n",
        "# Define the training data\n",
        "X = np.array([[0, 0], [0, 1], [1, 0], [1, 1]])\n",
        "Y = np.array([[0], [1], [1], [0]])\n",
        "\n",
        "# Initialize the weights with random values\n",
        "W1 = np.random.randn(input_neuron, hidden_neuron) * 0.01\n",
        "W2 = np.random.randn(hidden_neuron, output_neuron) * 0.01\n",
        "\n",
        "# Initialize the biases with random values\n",
        "b1 = np.random.randn(1, hidden_neuron) * 0.01\n",
        "b2 = np.random.randn(1, output_neuron) * 0.01\n",
        "\n",
        "# Define the sigmoid activation function and its derivative\n",
        "def sigmoid(x):\n",
        "    return 1 / (1 + np.exp(-x))\n",
        "\n",
        "def sigmoid_derivative(x):\n",
        "    return x * (1 - x)\n",
        "\n",
        "# Train the network using backpropagation\n",
        "for i in range(epochs):\n",
        "    # Forward pass\n",
        "    hidden_layer_input = np.dot(X, W1) + b1\n",
        "    hidden_layer_output = sigmoid(hidden_layer_input)\n",
        "    output_layer_input = np.dot(hidden_layer_output, W2) + b2\n",
        "    output_layer_output = sigmoid(output_layer_input)\n",
        "\n",
        "    # Backward pass\n",
        "    output_error = Y - output_layer_output\n",
        "    output_delta = output_error * sigmoid_derivative(output_layer_output)\n",
        "\n",
        "    hidden_error = output_delta.dot(W2.T)\n",
        "    hidden_delta = hidden_error * sigmoid_derivative(hidden_layer_output)\n",
        "\n",
        "    # Update weights and biases\n",
        "    W2 += np.dot(hidden_layer_output.T, output_delta) * learning_rate\n",
        "    b2 += np.sum(output_delta, axis=0, keepdims=True) * learning_rate\n",
        "    W1 += np.dot(X.T, hidden_delta) * learning_rate\n",
        "    b1 += np.sum(hidden_delta, axis=0, keepdims=True) * learning_rate\n",
        "\n",
        "# Test the network with some example inputs\n",
        "x_test = np.array([[0, 0], [0, 1], [1, 0], [1, 1]])\n",
        "y_test = np.array([[0], [1], [1], [0]])\n",
        "\n",
        "hidden_layer_input = np.dot(x_test, W1) + b1\n",
        "hidden_layer_output = sigmoid(hidden_layer_input)\n",
        "output_layer_input = np.dot(hidden_layer_output, W2) + b2\n",
        "output_layer_output = sigmoid(output_layer_input)\n",
        "\n",
        "print(\"Input:\")\n",
        "print(x_test)\n",
        "print(\"Output:\")\n",
        "print(output_layer_output)\n",
        "print(\"Expected Output:\")\n",
        "print(y_test)"
      ]
    }
  ],
  "metadata": {
    "colab": {
      "provenance": []
    },
    "kernelspec": {
      "display_name": "Python 3",
      "name": "python3"
    },
    "language_info": {
      "codemirror_mode": {
        "name": "ipython",
        "version": 3
      },
      "file_extension": ".py",
      "mimetype": "text/x-python",
      "name": "python",
      "nbconvert_exporter": "python",
      "pygments_lexer": "ipython3",
      "version": "3.10.11"
    }
  },
  "nbformat": 4,
  "nbformat_minor": 0
}
