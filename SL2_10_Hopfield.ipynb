{
  "nbformat": 4,
  "nbformat_minor": 0,
  "metadata": {
    "colab": {
      "provenance": []
    },
    "kernelspec": {
      "name": "python3",
      "display_name": "Python 3"
    },
    "language_info": {
      "name": "python"
    }
  },
  "cells": [
    {
      "cell_type": "code",
      "execution_count": 1,
      "metadata": {
        "colab": {
          "base_uri": "https://localhost:8080/"
        },
        "id": "uL1Vx4R8GqTo",
        "outputId": "229d7513-93aa-4248-ba15-35de77d11c1a"
      },
      "outputs": [
        {
          "output_type": "stream",
          "name": "stdout",
          "text": [
            "Input vector:\n",
            "[ 1  1 -1 -1]\n",
            "Output vector:\n",
            "[-1 -1  1  1]\n"
          ]
        }
      ],
      "source": [
        "#Assignments: 9\n",
        "#Write a python program to design a Hopfield Network which stores 4 vectors\n",
        "\n",
        "import numpy as np\n",
        "# Define the 4 vectors to be stored\n",
        "vectors = np.array([[1, 1, -1, -1],\n",
        "                    [-1, -1, 1, 1],\n",
        "                    [1, -1, 1, -1],\n",
        "                    [-1, 1, -1, 1]])\n",
        "\n",
        "# Calculate the weight matrix\n",
        "weights = np.zeros((4, 4))\n",
        "for i in range(4):\n",
        "    for j in range(4):\n",
        "        if i == j:\n",
        "            weights[i, j] = 0\n",
        "        else:\n",
        "            weights[i, j] = np.sum(vectors[i] * vectors[j])\n",
        "\n",
        "# Define the activation function (in this case, a sign function)\n",
        "def activation(x):\n",
        "    return np.where(x >= 0, 1, -1)\n",
        "\n",
        "# Define the Hopfield network function\n",
        "def hopfield(input_vector, weights):\n",
        "    output_vector = activation(np.dot(weights, input_vector))\n",
        "    return output_vector\n",
        "\n",
        "# Test the Hopfield network with one of the stored vectors as input\n",
        "input_vector = vectors[0]\n",
        "output_vector = hopfield(input_vector, weights)\n",
        "print(\"Input vector:\")\n",
        "print(input_vector)\n",
        "print(\"Output vector:\")\n",
        "print(output_vector)"
      ]
    }
  ]
}