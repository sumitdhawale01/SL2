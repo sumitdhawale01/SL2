{
  "nbformat": 4,
  "nbformat_minor": 0,
  "metadata": {
    "colab": {
      "provenance": []
    },
    "kernelspec": {
      "name": "python3",
      "display_name": "Python 3"
    },
    "language_info": {
      "name": "python"
    }
  },
  "cells": [
    {
      "cell_type": "code",
      "source": [
        "import numpy as np\n",
        "\n",
        "x1 = np.array([1, 1, 1, -1])\n",
        "y1 = np.array([1, -1])\n",
        "\n",
        "x2 = np.array([-1, -1, 1, 1])\n",
        "y2 = np.array([-1, 1])\n",
        "\n",
        "W = np.outer(y1, x1) + np.outer(y2, x2)\n",
        "\n",
        "def bam(x):\n",
        "  y = np.dot(W, x)\n",
        "  y = np.where(y >= 0, 1, -1)\n",
        "  return y\n",
        "\n",
        "x_test = np.array([1, 1, 1, -1])\n",
        "y_test = bam(x_test)\n",
        "\n",
        "print(\"Input x: \", x_test)\n",
        "print(\"Output y: \", y_test)\n"
      ],
      "metadata": {
        "colab": {
          "base_uri": "https://localhost:8080/"
        },
        "id": "Z9LSUV_4NeVJ",
        "outputId": "62a3dd04-f5bb-45db-ae53-e4cd2d9d8b8f"
      },
      "execution_count": 1,
      "outputs": [
        {
          "output_type": "stream",
          "name": "stdout",
          "text": [
            "Input x:  [ 1  1  1 -1]\n",
            "Output y:  [ 1 -1]\n"
          ]
        }
      ]
    },
    {
      "cell_type": "code",
      "source": [
        "\n",
        "W = np.outer(x1, y1) + np.outer(x2, y2)\n",
        "\n",
        "y_test = np.array([1, -1])\n",
        "x_test = bam(y_test)\n",
        "\n",
        "print(\"Input x: \", y_test)\n",
        "print(\"Output y: \", x_test)"
      ],
      "metadata": {
        "colab": {
          "base_uri": "https://localhost:8080/"
        },
        "id": "mSbOR2jWQzB-",
        "outputId": "40de914a-44db-4503-daee-e761396ce3fc"
      },
      "execution_count": 2,
      "outputs": [
        {
          "output_type": "stream",
          "name": "stdout",
          "text": [
            "Input x:  [ 1 -1]\n",
            "Output y:  [ 1  1  1 -1]\n"
          ]
        }
      ]
    },
    {
      "cell_type": "code",
      "source": [],
      "metadata": {
        "id": "ocACkJTzIt_d"
      },
      "execution_count": null,
      "outputs": []
    }
  ]
}