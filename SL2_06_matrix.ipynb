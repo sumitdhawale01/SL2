{
  "nbformat": 4,
  "nbformat_minor": 0,
  "metadata": {
    "colab": {
      "provenance": []
    },
    "kernelspec": {
      "name": "python3",
      "display_name": "Python 3"
    },
    "language_info": {
      "name": "python"
    }
  },
  "cells": [
    {
      "cell_type": "code",
      "source": [
        "import numpy as np\n",
        "\n",
        "def initialize_weights(input_size, output_size):\n",
        "    # Initialize weights randomly with mean 0\n",
        "    return 2 * np.random.random((input_size, output_size)) - 1\n",
        "\n",
        "def sigmoid(x):\n",
        "    # Sigmoid activation function\n",
        "    return 1 / (1 + np.exp(-x))\n",
        "\n",
        "def sigmoid_derivative(x):\n",
        "    # Derivative of sigmoid\n",
        "    return x * (1 - x)\n",
        "\n",
        "def forward_propagation(inputs, weights):\n",
        "    # Forward propagation through the network\n",
        "    return sigmoid(np.dot(inputs, weights))\n",
        "\n",
        "def backward_propagation(inputs, output, target, weights, learning_rate):\n",
        "    # Backward pass and weight adjustment\n",
        "    error = target - output\n",
        "    adjustment = np.dot(inputs.T, error * sigmoid_derivative(output))\n",
        "    weights += learning_rate * adjustment\n",
        "    return weights\n",
        "\n",
        "def train_neural_network(training_inputs, training_outputs, iterations):\n",
        "    # Initialize weights\n",
        "    synaptic_weights = initialize_weights(training_inputs.shape[1], training_outputs.shape[1])\n",
        "\n",
        "    # Training the neural network\n",
        "    for iteration in range(iterations):\n",
        "        output = forward_propagation(training_inputs, synaptic_weights)\n",
        "        synaptic_weights = backward_propagation(training_inputs, output, training_outputs, synaptic_weights, 0.1)\n",
        "\n",
        "    return synaptic_weights\n",
        "\n",
        "def calculate_accuracy(predictions, targets):\n",
        "    # Count correct predictions\n",
        "    correct = np.sum(predictions == targets)\n",
        "    # Calculate accuracy\n",
        "    accuracy = (correct / len(targets)) * 100\n",
        "    return accuracy\n",
        "\n",
        "# Define training data\n",
        "training_inputs = np.array([\n",
        "    [1, 1, 1,\n",
        "     1, 0, 1,\n",
        "     1, 0, 1,\n",
        "     1, 0, 1,\n",
        "     1, 1, 1],\n",
        "\n",
        "    [0, 0, 1,\n",
        "     0, 0, 1,\n",
        "     0, 0, 1,\n",
        "     0, 0, 1,\n",
        "     0, 0, 1],\n",
        "\n",
        "    [1, 1, 1,\n",
        "     0, 0, 1,\n",
        "     1, 1, 1,\n",
        "     1, 0, 0,\n",
        "     1, 1, 1],\n",
        "\n",
        "    [1, 1, 1,\n",
        "     0, 0, 1,\n",
        "     1, 1, 1,\n",
        "     0, 0, 1,\n",
        "     1, 1, 1]\n",
        "])\n",
        "\n",
        "training_outputs = np.array([[1], [0], [2], [39]])\n",
        "\n",
        "# Train the neural network\n",
        "trained_weights = train_neural_network(training_inputs, training_outputs, 10000)\n",
        "\n",
        "# Define test data\n",
        "test_input = np.array([\n",
        "    [1, 1, 1,\n",
        "     1, 0, 1,\n",
        "     1, 0, 1,\n",
        "     1, 0, 1,\n",
        "     1, 1, 1]\n",
        "])\n",
        "\n",
        "# Forward propagation on test data\n",
        "predicted_output = forward_propagation(test_input, trained_weights)\n",
        "\n",
        "# Calculate accuracy\n",
        "# Since the output is continuous, we round the predicted values to the nearest integer\n",
        "rounded_predictions = np.round(predicted_output)\n",
        "accuracy = calculate_accuracy(rounded_predictions, np.array([[1]]))  # Expected output for test data is 1 (representing number 1)\n",
        "print(\"Accuracy:\", accuracy, \"%\")\n"
      ],
      "metadata": {
        "colab": {
          "base_uri": "https://localhost:8080/"
        },
        "id": "j33tYB2iOxfs",
        "outputId": "1d11397a-dc78-4e55-e3d1-9b8b7b4376af"
      },
      "execution_count": null,
      "outputs": [
        {
          "output_type": "stream",
          "name": "stdout",
          "text": [
            "Accuracy: 100.0 %\n"
          ]
        }
      ]
    }
  ]
}