{
  "nbformat": 4,
  "nbformat_minor": 0,
  "metadata": {
    "colab": {
      "provenance": [],
      "authorship_tag": "ABX9TyNg7vHiNLjhPOBj3zqxWpOW",
      "include_colab_link": true
    },
    "kernelspec": {
      "name": "python3",
      "display_name": "Python 3"
    },
    "language_info": {
      "name": "python"
    }
  },
  "cells": [
    {
      "cell_type": "markdown",
      "metadata": {
        "id": "view-in-github",
        "colab_type": "text"
      },
      "source": [
        "<a href=\"https://colab.research.google.com/github/mohit579-pixel/SL2/blob/main/Assignment11.ipynb\" target=\"_parent\"><img src=\"https://colab.research.google.com/assets/colab-badge.svg\" alt=\"Open In Colab\"/></a>"
      ]
    },
    {
      "cell_type": "code",
      "execution_count": 7,
      "metadata": {
        "colab": {
          "base_uri": "https://localhost:8080/"
        },
        "id": "jckcb5y1x6k1",
        "outputId": "ab5b5bde-2bfa-4ba4-d1fa-1f0285fba25b"
      },
      "outputs": [
        {
          "output_type": "stream",
          "name": "stdout",
          "text": [
            "shape(455, 30)\n",
            "Epoch 1/5\n",
            "15/15 [==============================] - 1s 3ms/step - loss: 0.6319 - accuracy: 0.6681\n",
            "Epoch 2/5\n",
            "15/15 [==============================] - 0s 3ms/step - loss: 0.5719 - accuracy: 0.7187\n",
            "Epoch 3/5\n",
            "15/15 [==============================] - 0s 3ms/step - loss: 0.5218 - accuracy: 0.7648\n",
            "Epoch 4/5\n",
            "15/15 [==============================] - 0s 3ms/step - loss: 0.4796 - accuracy: 0.7890\n",
            "Epoch 5/5\n",
            "15/15 [==============================] - 0s 3ms/step - loss: 0.4431 - accuracy: 0.8176\n",
            "4/4 [==============================] - 0s 5ms/step\n",
            "Accuracy_Error: 0.12782531944095374\n",
            "4/4 [==============================] - 1s 4ms/step - loss: 0.4112 - accuracy: 0.8509\n",
            "Accuracy: 0.8508771657943726\n"
          ]
        }
      ],
      "source": [
        "import tensorflow as tf\n",
        "import numpy as np\n",
        "from sklearn.model_selection import train_test_split\n",
        "from sklearn.preprocessing import StandardScaler\n",
        "from sklearn.datasets import load_breast_cancer\n",
        "from sklearn.metrics import mean_squared_error\n",
        "# Load the breast cancer dataset\n",
        "df = load_breast_cancer()\n",
        "X_train, X_test, y_train, y_test = train_test_split(df.data, df.target, test_size=0.20, random_state=42)\n",
        "\n",
        "# Scale the data\n",
        "sc = StandardScaler()\n",
        "X_train = sc.fit_transform(X_train)\n",
        "X_test = sc.transform(X_test)\n",
        "print(\"shape\"+str(X_train.shape))\n",
        "# Build the model\n",
        "model = tf.keras.models.Sequential([\n",
        "    tf.keras.layers.Dense(1, activation='sigmoid', input_shape=(X_train.shape[1],))\n",
        "])\n",
        "\n",
        "# Compile the model\n",
        "model.compile(optimizer='adam', loss='binary_crossentropy', metrics=['accuracy'])\n",
        "\n",
        "# Train the model\n",
        "model.fit(X_train, y_train, epochs=5)\n",
        "\n",
        "# Predict on test set\n",
        "y_pred = model.predict(X_test)\n",
        "print(\"Accuracy_Error:\",mean_squared_error(y_test,y_pred))\n",
        "# Evaluate the model\n",
        "test_loss, test_accuracy = model.evaluate(X_test, y_test)\n",
        "print(\"Accuracy:\", test_accuracy)\n"
      ]
    }
  ]
}