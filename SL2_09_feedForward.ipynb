{
 "cells": [
  {
   "cell_type": "code",
   "execution_count": null,
   "metadata": {},
   "outputs": [],
   "source": [
    "import numpy as np\n",
    "import seaborn as sbn\n",
    "import matplotlib.pyplot as plt"
   ]
  },
  {
   "cell_type": "code",
   "execution_count": null,
   "metadata": {},
   "outputs": [],
   "source": [
    "X  = np.array([[0,0],\n",
    "              [0,1],\n",
    "              [1,0],\n",
    "              [1,1]])\n",
    "y = np.array([[0],\n",
    "             [1],\n",
    "             [1],\n",
    "             [1]])\n",
    "lr = 0.5\n",
    "weights = np.random.randn(2,1)\n",
    "bias = np.random.randn(1)"
   ]
  },
  {
   "cell_type": "code",
   "execution_count": null,
   "metadata": {},
   "outputs": [],
   "source": [
    "def sigmoid(x):\n",
    "    return 1/(1+np.exp(-x))\n",
    "\n",
    "def sigmoid_derivative(x):\n",
    "    return x*(1-x)\n",
    "\n",
    "def costfn(actual, pred):\n",
    "    return np.mean((actual-pred)**2)"
   ]
  },
  {
   "cell_type": "code",
   "execution_count": null,
   "metadata": {},
   "outputs": [],
   "source": [
    "def forward(x, weights, bias):\n",
    "    z = np.dot(x, weights) + bias\n",
    "    return sigmoid(z)\n",
    "\n",
    "def backward(x, y, output, bias, weights, lr):\n",
    "    error = y - output\n",
    "    d_output = error * sigmoid_derivative(output)\n",
    "    d_bias = np.sum(d_output)\n",
    "    d_weights = np.dot(x.T, d_output)\n",
    "    \n",
    "    weights += lr * d_weights\n",
    "    bias += lr * d_bias\n",
    "    \n",
    "    return weights, bias"
   ]
  },
  {
   "cell_type": "code",
   "execution_count": null,
   "metadata": {},
   "outputs": [],
   "source": [
    "for epoch in range(30000):\n",
    "    output = forward(X, weights, bias)\n",
    "    weights, bias = backward(X, y, output, bias, weights, lr)\n",
    "    \n",
    "    cost = costfn(y, output)\n",
    "    if epoch%5000 == 0:\n",
    "        print(f\"epoch {epoch} : \", cost)"
   ]
  },
  {
   "cell_type": "code",
   "execution_count": null,
   "metadata": {},
   "outputs": [],
   "source": [
    "test = np.array([0,1])\n",
    "forward(test, weights, bias).round()"
   ]
  }
 ],
 "metadata": {
  "language_info": {
   "name": "python"
  }
 },
 "nbformat": 4,
 "nbformat_minor": 2
}
